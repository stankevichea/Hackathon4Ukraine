{
 "cells": [
  {
   "cell_type": "code",
   "execution_count": 1,
   "metadata": {},
   "outputs": [],
   "source": [
    "import requests\n",
    "from http import client\n",
    "from tqdm.notebook import tqdm\n",
    "import json\n",
    "import pandas as pd"
   ]
  },
  {
   "cell_type": "code",
   "execution_count": 2,
   "metadata": {},
   "outputs": [],
   "source": [
    "api_conn = client.HTTPSConnection(\n",
    "    'api.twitter.com',\n",
    ")\n",
    "\n",
    "headers = {\n",
    "    'Authorization': r'Bearer AAAAAAAAAAAAAAAAAAAAABDxaAEAAAAAx2PtQqiAPWCdp%2BpRC0USF%2FEmZvs%3DdcXc6zV2m0Ixb7Cp1GVemtxMkqFIJUw8rdPh2qM8xSH7nNLQSb'\n",
    "}"
   ]
  },
  {
   "cell_type": "code",
   "execution_count": 21,
   "metadata": {},
   "outputs": [],
   "source": [
    "query_params = {\n",
    "\n",
    "}"
   ]
  },
  {
   "cell_type": "code",
   "execution_count": 22,
   "metadata": {},
   "outputs": [],
   "source": [
    "id = '1505273325114720258'"
   ]
  },
  {
   "cell_type": "code",
   "execution_count": 23,
   "metadata": {},
   "outputs": [],
   "source": [
    "url = f'https://api.twitter.com/2/tweets/{id}'"
   ]
  },
  {
   "cell_type": "code",
   "execution_count": 27,
   "metadata": {},
   "outputs": [],
   "source": [
    "response = requests.request('GET', url, headers=headers)"
   ]
  },
  {
   "cell_type": "code",
   "execution_count": 32,
   "metadata": {},
   "outputs": [],
   "source": [
    "content = json.loads(response.content)"
   ]
  },
  {
   "cell_type": "code",
   "execution_count": 34,
   "metadata": {},
   "outputs": [
    {
     "data": {
      "text/plain": [
       "'RT @kylegriffin1: Reuters: Pope Francis, ramping up his implicit criticism of Russia, says the war in Ukraine is a \"perverse abuse of power…'"
      ]
     },
     "execution_count": 34,
     "metadata": {},
     "output_type": "execute_result"
    }
   ],
   "source": [
    "content['data']['text']"
   ]
  },
  {
   "cell_type": "code",
   "execution_count": 3,
   "metadata": {},
   "outputs": [
    {
     "data": {
      "application/vnd.jupyter.widget-view+json": {
       "model_id": "20bb73c386544969aa1a7d95a628269b",
       "version_major": 2,
       "version_minor": 0
      },
      "text/plain": [
       "  0%|          | 0/399 [00:00<?, ?it/s]"
      ]
     },
     "metadata": {},
     "output_type": "display_data"
    }
   ],
   "source": [
    "PAGE_SIZE = 100\n",
    "PAGES = 400\n",
    "url = 'https://api.twitter.com/2/tweets/search/recent'\n",
    "\n",
    "query_params = {\n",
    "    'query': 'ukraine',\n",
    "    'max_results': 100,\n",
    "    #'tweet_mode': 'extended'\n",
    "}\n",
    "out_df = pd.DataFrame(columns=['text'])\n",
    "\n",
    "response = requests.request('GET', url, headers=headers, params=query_params)\n",
    "response_content = json.loads(response.content)\n",
    "\n",
    "next_token = response_content['meta']['next_token']\n",
    "texts = [tweet['text'] for tweet in response_content['data']]\n",
    "\n",
    "temp_df = pd.DataFrame({'text': texts})\n",
    "out_df = pd.concat([out_df, temp_df])\n",
    "\n",
    "for i in tqdm(range(PAGES - 1)):\n",
    "    query_params['next_token'] = next_token\n",
    "\n",
    "    response = requests.request('GET', url, headers=headers, params=query_params)\n",
    "    response_content = json.loads(response.content)\n",
    "\n",
    "    next_token = response_content['meta']['next_token']\n",
    "    texts = [tweet['id'] for tweet in response_content['data']]\n",
    "\n",
    "    temp_df = pd.DataFrame({'text': texts})\n",
    "    out_df = pd.concat([out_df, temp_df]).reset_index(drop=True)\n"
   ]
  },
  {
   "cell_type": "code",
   "execution_count": 6,
   "metadata": {},
   "outputs": [
    {
     "data": {
      "text/html": [
       "<div>\n",
       "<style scoped>\n",
       "    .dataframe tbody tr th:only-of-type {\n",
       "        vertical-align: middle;\n",
       "    }\n",
       "\n",
       "    .dataframe tbody tr th {\n",
       "        vertical-align: top;\n",
       "    }\n",
       "\n",
       "    .dataframe thead th {\n",
       "        text-align: right;\n",
       "    }\n",
       "</style>\n",
       "<table border=\"1\" class=\"dataframe\">\n",
       "  <thead>\n",
       "    <tr style=\"text-align: right;\">\n",
       "      <th></th>\n",
       "      <th>text</th>\n",
       "    </tr>\n",
       "  </thead>\n",
       "  <tbody>\n",
       "    <tr>\n",
       "      <th>0</th>\n",
       "      <td>RT @nolanwpeterson: Two US Army combat veteran...</td>\n",
       "    </tr>\n",
       "    <tr>\n",
       "      <th>1</th>\n",
       "      <td>The #ICC: “intentionally killing civilians…unn...</td>\n",
       "    </tr>\n",
       "    <tr>\n",
       "      <th>2</th>\n",
       "      <td>🇧🇬 OTAN rentre chez toi.\\n\\n  En Bulgarie, un ...</td>\n",
       "    </tr>\n",
       "    <tr>\n",
       "      <th>3</th>\n",
       "      <td>RT @NeilPHauer: The people in this city, the l...</td>\n",
       "    </tr>\n",
       "    <tr>\n",
       "      <th>4</th>\n",
       "      <td>This 👇 Note - The Russian crew get to pick the...</td>\n",
       "    </tr>\n",
       "    <tr>\n",
       "      <th>...</th>\n",
       "      <td>...</td>\n",
       "    </tr>\n",
       "    <tr>\n",
       "      <th>39939</th>\n",
       "      <td>1505149431829643268</td>\n",
       "    </tr>\n",
       "    <tr>\n",
       "      <th>39940</th>\n",
       "      <td>1505149431691321348</td>\n",
       "    </tr>\n",
       "    <tr>\n",
       "      <th>39941</th>\n",
       "      <td>1505149431670358018</td>\n",
       "    </tr>\n",
       "    <tr>\n",
       "      <th>39942</th>\n",
       "      <td>1505149431615836163</td>\n",
       "    </tr>\n",
       "    <tr>\n",
       "      <th>39943</th>\n",
       "      <td>1505149431607443458</td>\n",
       "    </tr>\n",
       "  </tbody>\n",
       "</table>\n",
       "<p>39944 rows × 1 columns</p>\n",
       "</div>"
      ],
      "text/plain": [
       "                                                    text\n",
       "0      RT @nolanwpeterson: Two US Army combat veteran...\n",
       "1      The #ICC: “intentionally killing civilians…unn...\n",
       "2      🇧🇬 OTAN rentre chez toi.\\n\\n  En Bulgarie, un ...\n",
       "3      RT @NeilPHauer: The people in this city, the l...\n",
       "4      This 👇 Note - The Russian crew get to pick the...\n",
       "...                                                  ...\n",
       "39939                                1505149431829643268\n",
       "39940                                1505149431691321348\n",
       "39941                                1505149431670358018\n",
       "39942                                1505149431615836163\n",
       "39943                                1505149431607443458\n",
       "\n",
       "[39944 rows x 1 columns]"
      ]
     },
     "execution_count": 6,
     "metadata": {},
     "output_type": "execute_result"
    }
   ],
   "source": [
    "out_df"
   ]
  },
  {
   "cell_type": "code",
   "execution_count": 5,
   "metadata": {},
   "outputs": [],
   "source": [
    "out_df = out_df.drop_duplicates().reset_index(drop=True)"
   ]
  },
  {
   "cell_type": "code",
   "execution_count": 48,
   "metadata": {},
   "outputs": [],
   "source": [
    "#out_df.to_csv('tweets.csv', index=False)"
   ]
  },
  {
   "cell_type": "code",
   "execution_count": 64,
   "metadata": {},
   "outputs": [],
   "source": [
    "import numpy as np"
   ]
  },
  {
   "cell_type": "code",
   "execution_count": 67,
   "metadata": {},
   "outputs": [
    {
     "data": {
      "text/html": [
       "<div>\n",
       "<style scoped>\n",
       "    .dataframe tbody tr th:only-of-type {\n",
       "        vertical-align: middle;\n",
       "    }\n",
       "\n",
       "    .dataframe tbody tr th {\n",
       "        vertical-align: top;\n",
       "    }\n",
       "\n",
       "    .dataframe thead th {\n",
       "        text-align: right;\n",
       "    }\n",
       "</style>\n",
       "<table border=\"1\" class=\"dataframe\">\n",
       "  <thead>\n",
       "    <tr style=\"text-align: right;\">\n",
       "      <th></th>\n",
       "      <th>text</th>\n",
       "    </tr>\n",
       "  </thead>\n",
       "  <tbody>\n",
       "    <tr>\n",
       "      <th>0</th>\n",
       "      <td>RT @JonJonesSnr: Jacob Rees-Mogg says Ukraine ...</td>\n",
       "    </tr>\n",
       "    <tr>\n",
       "      <th>1</th>\n",
       "      <td>RT @platon38900187: #ukraine Après nous avoir ...</td>\n",
       "    </tr>\n",
       "    <tr>\n",
       "      <th>2</th>\n",
       "      <td>RT @axumawi2022: “Abiy and Isaias have shown t...</td>\n",
       "    </tr>\n",
       "    <tr>\n",
       "      <th>3</th>\n",
       "      <td>Also everyone is expecting for the Deep State ...</td>\n",
       "    </tr>\n",
       "    <tr>\n",
       "      <th>4</th>\n",
       "      <td>RT @ABCNewsLive: \"What we're seeing from the R...</td>\n",
       "    </tr>\n",
       "    <tr>\n",
       "      <th>...</th>\n",
       "      <td>...</td>\n",
       "    </tr>\n",
       "    <tr>\n",
       "      <th>14381</th>\n",
       "      <td>Odd how Johnson is suddenly keen on self-deter...</td>\n",
       "    </tr>\n",
       "    <tr>\n",
       "      <th>14382</th>\n",
       "      <td>RT @Le_Figaro: À 18 ans, Vadym s’est engagé da...</td>\n",
       "    </tr>\n",
       "    <tr>\n",
       "      <th>14383</th>\n",
       "      <td>#Ukraine/#Russia \\nAircraft Action  #Belarus U...</td>\n",
       "    </tr>\n",
       "    <tr>\n",
       "      <th>14384</th>\n",
       "      <td>RT @oswinwaled: first what you can do is to ed...</td>\n",
       "    </tr>\n",
       "    <tr>\n",
       "      <th>14385</th>\n",
       "      <td>RT @DeadStateTweets: @joshtpm Lol. People can ...</td>\n",
       "    </tr>\n",
       "  </tbody>\n",
       "</table>\n",
       "<p>14386 rows × 1 columns</p>\n",
       "</div>"
      ],
      "text/plain": [
       "                                                    text\n",
       "0      RT @JonJonesSnr: Jacob Rees-Mogg says Ukraine ...\n",
       "1      RT @platon38900187: #ukraine Après nous avoir ...\n",
       "2      RT @axumawi2022: “Abiy and Isaias have shown t...\n",
       "3      Also everyone is expecting for the Deep State ...\n",
       "4      RT @ABCNewsLive: \"What we're seeing from the R...\n",
       "...                                                  ...\n",
       "14381  Odd how Johnson is suddenly keen on self-deter...\n",
       "14382  RT @Le_Figaro: À 18 ans, Vadym s’est engagé da...\n",
       "14383  #Ukraine/#Russia \\nAircraft Action  #Belarus U...\n",
       "14384  RT @oswinwaled: first what you can do is to ed...\n",
       "14385  RT @DeadStateTweets: @joshtpm Lol. People can ...\n",
       "\n",
       "[14386 rows x 1 columns]"
      ]
     },
     "execution_count": 67,
     "metadata": {},
     "output_type": "execute_result"
    }
   ],
   "source": [
    "out_df"
   ]
  },
  {
   "cell_type": "code",
   "execution_count": 72,
   "metadata": {},
   "outputs": [
    {
     "data": {
      "text/plain": [
       "text    RT @JonJonesSnr: Jacob Rees-Mogg says Ukraine ...\n",
       "Name: 0, dtype: object"
      ]
     },
     "execution_count": 72,
     "metadata": {},
     "output_type": "execute_result"
    }
   ],
   "source": [
    "out_df.loc[0]"
   ]
  },
  {
   "cell_type": "code",
   "execution_count": 81,
   "metadata": {},
   "outputs": [],
   "source": [
    "df2 = out_df.loc[np.array(list(map(lambda i: 'RT' not in out_df.loc[i]['text'], list(range(out_df.shape[0])))))].reset_index(drop=True)"
   ]
  },
  {
   "cell_type": "code",
   "execution_count": 83,
   "metadata": {},
   "outputs": [],
   "source": [
    "df2.to_csv('no_retweets.csv', index=False)"
   ]
  },
  {
   "cell_type": "code",
   "execution_count": 85,
   "metadata": {},
   "outputs": [],
   "source": [
    "out_df.to_csv('all_tweets.csv')"
   ]
  },
  {
   "cell_type": "code",
   "execution_count": 88,
   "metadata": {},
   "outputs": [
    {
     "data": {
      "text/html": [
       "<div>\n",
       "<style scoped>\n",
       "    .dataframe tbody tr th:only-of-type {\n",
       "        vertical-align: middle;\n",
       "    }\n",
       "\n",
       "    .dataframe tbody tr th {\n",
       "        vertical-align: top;\n",
       "    }\n",
       "\n",
       "    .dataframe thead th {\n",
       "        text-align: right;\n",
       "    }\n",
       "</style>\n",
       "<table border=\"1\" class=\"dataframe\">\n",
       "  <thead>\n",
       "    <tr style=\"text-align: right;\">\n",
       "      <th></th>\n",
       "      <th>text</th>\n",
       "    </tr>\n",
       "  </thead>\n",
       "  <tbody>\n",
       "    <tr>\n",
       "      <th>0</th>\n",
       "      <td>Also everyone is expecting for the Deep State ...</td>\n",
       "    </tr>\n",
       "    <tr>\n",
       "      <th>1</th>\n",
       "      <td>S-300's to #Mariupol! 🇺🇦\\n\\n@ZelenskyyUa @NATO...</td>\n",
       "    </tr>\n",
       "    <tr>\n",
       "      <th>2</th>\n",
       "      <td>@gigachadcapital @MapsUkraine Gay marriage in ...</td>\n",
       "    </tr>\n",
       "    <tr>\n",
       "      <th>3</th>\n",
       "      <td>Acaba de publicar un video en Stand with the p...</td>\n",
       "    </tr>\n",
       "    <tr>\n",
       "      <th>4</th>\n",
       "      <td>@DaminaboEric should have just left him there ...</td>\n",
       "    </tr>\n",
       "    <tr>\n",
       "      <th>...</th>\n",
       "      <td>...</td>\n",
       "    </tr>\n",
       "    <tr>\n",
       "      <th>6987</th>\n",
       "      <td>Russia is constructing earthen berms to protec...</td>\n",
       "    </tr>\n",
       "    <tr>\n",
       "      <th>6988</th>\n",
       "      <td>Westport photographer captures the history of ...</td>\n",
       "    </tr>\n",
       "    <tr>\n",
       "      <th>6989</th>\n",
       "      <td>@Wandrwoman @Backtheblue911 There were parts o...</td>\n",
       "    </tr>\n",
       "    <tr>\n",
       "      <th>6990</th>\n",
       "      <td>Odd how Johnson is suddenly keen on self-deter...</td>\n",
       "    </tr>\n",
       "    <tr>\n",
       "      <th>6991</th>\n",
       "      <td>#Ukraine/#Russia \\nAircraft Action  #Belarus U...</td>\n",
       "    </tr>\n",
       "  </tbody>\n",
       "</table>\n",
       "<p>6992 rows × 1 columns</p>\n",
       "</div>"
      ],
      "text/plain": [
       "                                                   text\n",
       "0     Also everyone is expecting for the Deep State ...\n",
       "1     S-300's to #Mariupol! 🇺🇦\\n\\n@ZelenskyyUa @NATO...\n",
       "2     @gigachadcapital @MapsUkraine Gay marriage in ...\n",
       "3     Acaba de publicar un video en Stand with the p...\n",
       "4     @DaminaboEric should have just left him there ...\n",
       "...                                                 ...\n",
       "6987  Russia is constructing earthen berms to protec...\n",
       "6988  Westport photographer captures the history of ...\n",
       "6989  @Wandrwoman @Backtheblue911 There were parts o...\n",
       "6990  Odd how Johnson is suddenly keen on self-deter...\n",
       "6991  #Ukraine/#Russia \\nAircraft Action  #Belarus U...\n",
       "\n",
       "[6992 rows x 1 columns]"
      ]
     },
     "execution_count": 88,
     "metadata": {},
     "output_type": "execute_result"
    }
   ],
   "source": [
    "df2"
   ]
  },
  {
   "cell_type": "code",
   "execution_count": 87,
   "metadata": {},
   "outputs": [
    {
     "data": {
      "text/html": [
       "<div>\n",
       "<style scoped>\n",
       "    .dataframe tbody tr th:only-of-type {\n",
       "        vertical-align: middle;\n",
       "    }\n",
       "\n",
       "    .dataframe tbody tr th {\n",
       "        vertical-align: top;\n",
       "    }\n",
       "\n",
       "    .dataframe thead th {\n",
       "        text-align: right;\n",
       "    }\n",
       "</style>\n",
       "<table border=\"1\" class=\"dataframe\">\n",
       "  <thead>\n",
       "    <tr style=\"text-align: right;\">\n",
       "      <th></th>\n",
       "      <th>text</th>\n",
       "    </tr>\n",
       "  </thead>\n",
       "  <tbody>\n",
       "    <tr>\n",
       "      <th>0</th>\n",
       "      <td>RT @JonJonesSnr: Jacob Rees-Mogg says Ukraine ...</td>\n",
       "    </tr>\n",
       "    <tr>\n",
       "      <th>1</th>\n",
       "      <td>RT @platon38900187: #ukraine Après nous avoir ...</td>\n",
       "    </tr>\n",
       "    <tr>\n",
       "      <th>2</th>\n",
       "      <td>RT @axumawi2022: “Abiy and Isaias have shown t...</td>\n",
       "    </tr>\n",
       "    <tr>\n",
       "      <th>3</th>\n",
       "      <td>Also everyone is expecting for the Deep State ...</td>\n",
       "    </tr>\n",
       "    <tr>\n",
       "      <th>4</th>\n",
       "      <td>RT @ABCNewsLive: \"What we're seeing from the R...</td>\n",
       "    </tr>\n",
       "    <tr>\n",
       "      <th>...</th>\n",
       "      <td>...</td>\n",
       "    </tr>\n",
       "    <tr>\n",
       "      <th>14381</th>\n",
       "      <td>Odd how Johnson is suddenly keen on self-deter...</td>\n",
       "    </tr>\n",
       "    <tr>\n",
       "      <th>14382</th>\n",
       "      <td>RT @Le_Figaro: À 18 ans, Vadym s’est engagé da...</td>\n",
       "    </tr>\n",
       "    <tr>\n",
       "      <th>14383</th>\n",
       "      <td>#Ukraine/#Russia \\nAircraft Action  #Belarus U...</td>\n",
       "    </tr>\n",
       "    <tr>\n",
       "      <th>14384</th>\n",
       "      <td>RT @oswinwaled: first what you can do is to ed...</td>\n",
       "    </tr>\n",
       "    <tr>\n",
       "      <th>14385</th>\n",
       "      <td>RT @DeadStateTweets: @joshtpm Lol. People can ...</td>\n",
       "    </tr>\n",
       "  </tbody>\n",
       "</table>\n",
       "<p>14386 rows × 1 columns</p>\n",
       "</div>"
      ],
      "text/plain": [
       "                                                    text\n",
       "0      RT @JonJonesSnr: Jacob Rees-Mogg says Ukraine ...\n",
       "1      RT @platon38900187: #ukraine Après nous avoir ...\n",
       "2      RT @axumawi2022: “Abiy and Isaias have shown t...\n",
       "3      Also everyone is expecting for the Deep State ...\n",
       "4      RT @ABCNewsLive: \"What we're seeing from the R...\n",
       "...                                                  ...\n",
       "14381  Odd how Johnson is suddenly keen on self-deter...\n",
       "14382  RT @Le_Figaro: À 18 ans, Vadym s’est engagé da...\n",
       "14383  #Ukraine/#Russia \\nAircraft Action  #Belarus U...\n",
       "14384  RT @oswinwaled: first what you can do is to ed...\n",
       "14385  RT @DeadStateTweets: @joshtpm Lol. People can ...\n",
       "\n",
       "[14386 rows x 1 columns]"
      ]
     },
     "execution_count": 87,
     "metadata": {},
     "output_type": "execute_result"
    }
   ],
   "source": [
    "out_df"
   ]
  }
 ],
 "metadata": {
  "interpreter": {
   "hash": "916dbcbb3f70747c44a77c7bcd40155683ae19c65e1c03b4aa3499c5328201f1"
  },
  "kernelspec": {
   "display_name": "Python 3.8.10 64-bit",
   "language": "python",
   "name": "python3"
  },
  "language_info": {
   "codemirror_mode": {
    "name": "ipython",
    "version": 3
   },
   "file_extension": ".py",
   "mimetype": "text/x-python",
   "name": "python",
   "nbconvert_exporter": "python",
   "pygments_lexer": "ipython3",
   "version": "3.9.7"
  },
  "orig_nbformat": 4
 },
 "nbformat": 4,
 "nbformat_minor": 2
}
