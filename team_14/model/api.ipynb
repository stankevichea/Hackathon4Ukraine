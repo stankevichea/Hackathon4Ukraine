{
  "nbformat": 4,
  "nbformat_minor": 0,
  "metadata": {
    "colab": {
      "name": "hack4ukraine_api.ipynb",
      "provenance": [],
      "collapsed_sections": []
    },
    "kernelspec": {
      "name": "python3",
      "display_name": "Python 3"
    },
    "language_info": {
      "name": "python"
    },
    "accelerator": "GPU"
  },
  "cells": [
    {
      "cell_type": "code",
      "source": [
        "!wget https://bin.equinox.io/c/4VmDzA7iaHb/ngrok-stable-linux-amd64.zip\n",
        "!unzip -o ngrok-stable-linux-amd64.zip\n",
        "\n",
        "!pip install transformers\n",
        "!pip install flask\n",
        "!pip install flask-ngrok"
      ],
      "metadata": {
        "id": "GOIx6ruNP2Pf"
      },
      "execution_count": null,
      "outputs": []
    },
    {
      "cell_type": "code",
      "source": [
        "from IPython import get_ipython\n",
        "import flask\n",
        "import transformers\n",
        "import torch\n",
        "import requests\n",
        "import json\n",
        "import pandas as pd\n",
        "\n",
        "from google.colab import drive\n",
        "\n",
        "drive.mount('/content/drive')\n",
        "\n",
        "import os\n",
        "os.chdir('drive/MyDrive/hack4ukraine')"
      ],
      "metadata": {
        "id": "m8y3vM2cP7iS"
      },
      "execution_count": null,
      "outputs": []
    },
    {
      "cell_type": "code",
      "source": [
        "class TwitterClassifier:\n",
        "\n",
        "    def __init__(self):\n",
        "\n",
        "        self.headers = {\n",
        "            'Authorization': r'Bearer AAAAAAAAAAAAAAAAAAAAABDxaAEAAAAAx2PtQqiAPWCdp%2BpRC0USF%2FEmZvs%3DdcXc6zV2m0Ixb7Cp1GVemtxMkqFIJUw8rdPh2qM8xSH7nNLQSb'\n",
        "        }\n",
        "        self.url = 'https://api.twitter.com/2/tweets/'\n",
        "\n",
        "        self.tokenizer = torch.load('preprocessing.pt')\n",
        "        self.model = torch.load('model.pt')\n",
        "        self.model.to('cuda:0')\n",
        "\n",
        "    \n",
        "    def predict_proba(self, tweet_id: str) -> float:\n",
        "        url = self.url + tweet_id\n",
        "        response = requests.request('GET', url, headers=self.headers)\n",
        "        content = json.loads(response.content)\n",
        "        text = content['data']['text']\n",
        "\n",
        "        tokenized = self.tokenizer(text, return_tensors='pt')\n",
        "        tokenized['input_ids'] = tokenized['input_ids'].to('cuda:0')\n",
        "        tokenized['token_type_ids'] = tokenized['token_type_ids'].to('cuda:0')\n",
        "        tokenized['attention_mask'] = tokenized['attention_mask'].to('cuda:0')\n",
        "\n",
        "        for item in tokenized.items():\n",
        "          item[1].to('cuda:0')\n",
        "        labels = torch.Tensor([1]).unsqueeze(0).long().to('cuda:0')\n",
        "\n",
        "        with torch.no_grad():\n",
        "            pred = self.model(**tokenized, labels=labels)[1]\n",
        "            \n",
        "        return torch.nn.functional.softmax(pred[0])[1].item()"
      ],
      "metadata": {
        "id": "ZZ57i3yZPQMi"
      },
      "execution_count": 80,
      "outputs": []
    },
    {
      "cell_type": "code",
      "source": [
        "classifier = TwitterClassifier()"
      ],
      "metadata": {
        "id": "mz7AkpluPaTo"
      },
      "execution_count": 81,
      "outputs": []
    },
    {
      "cell_type": "code",
      "source": [
        "get_ipython().system_raw('python app.py &')\n",
        "get_ipython().system_raw('./ngrok authtoken 26cgfBNaX1pyZXPtolJmaEGBBGH_3U2HNALYekZrGMaWV9Wdy ')\n",
        "get_ipython().system_raw('./ngrok http 5000 &')"
      ],
      "metadata": {
        "id": "1U813LPgThVH"
      },
      "execution_count": 85,
      "outputs": []
    },
    {
      "cell_type": "code",
      "source": [
        "! curl -s http://localhost:4040/api/tunnels | python3 -c \\\n",
        "    \"import sys, json; print(json.load(sys.stdin)['tunnels'][0]['public_url'])\""
      ],
      "metadata": {
        "colab": {
          "base_uri": "https://localhost:8080/"
        },
        "id": "eFPmXkk6Trd-",
        "outputId": "3561895b-e563-4729-d389-996cb0f62798"
      },
      "execution_count": 86,
      "outputs": [
        {
          "output_type": "stream",
          "name": "stdout",
          "text": [
            "https://1b6e-34-136-46-201.ngrok.io\n"
          ]
        }
      ]
    },
    {
      "cell_type": "code",
      "source": [
        "from flask import Flask, request\n",
        "app = Flask(__name__)\n",
        "\n",
        "\n",
        "@app.route('/')\n",
        "def index():\n",
        "    id = str(request.args.get('id'))\n",
        "    return {'prob': classifier.predict_proba(id)}\n",
        "\n",
        "if __name__ == '__main__':\n",
        "    app.run()"
      ],
      "metadata": {
        "id": "vLSB2uZdUUBd"
      },
      "execution_count": null,
      "outputs": []
    }
  ]
}